{
 "cells": [
  {
   "cell_type": "markdown",
   "metadata": {},
   "source": [
    "# Kata modulo 3"
   ]
  },
  {
   "cell_type": "markdown",
   "metadata": {},
   "source": [
    "Escribir una logica condicional que imprima una advertencia si un asteroide se acerca a la Tierra demasiado rápido. La velocidad del asteroide varía depdniendo de lo cerca que esté del sol, y cualquier velocidad superior a 25 kilometros por segundo (km/s) merece una advertencia. \n",
    "\n",
    "Un asteroide se acerca, y viaja a una velocidad de 49 km/s"
   ]
  },
  {
   "cell_type": "code",
   "execution_count": 17,
   "metadata": {},
   "outputs": [
    {
     "name": "stdout",
     "output_type": "stream",
     "text": [
      "No hay ningun peligro!\n"
     ]
    }
   ],
   "source": [
    "a = 10\n",
    "if a >= 25:\n",
    "    print(\"Peligro! un asteroide se acerca a \" + str(a) + \" km/s\")\n",
    "else:\n",
    "    print(\"No hay ningun peligro!\")"
   ]
  },
  {
   "cell_type": "markdown",
   "metadata": {},
   "source": [
    "Si un asteroide entra a la atmosfera de la Tierra a una velocidad mayor o igual a 20 km/s, a veces produce un rayo de luz que se puede ver desde la Tierra. Escribe la logica condicional que usa declaraciones if, else y elif para alertar a las personas de todo el mundo que deben buscar un asteroide en el cielo. ¡Hay uno que se dirige a la tierra ahora a una velocidad de 19 km/s!"
   ]
  },
  {
   "cell_type": "code",
   "execution_count": 9,
   "metadata": {},
   "outputs": [
    {
     "name": "stdout",
     "output_type": "stream",
     "text": [
      "Hay un asteroide acercanse a 19 km/s\n"
     ]
    }
   ],
   "source": [
    "a = 19\n",
    "if a > 20:\n",
    "    print(\"Hay un asteroide acercandose a \" + str(a) + \" km/s, busca señales en el cielo\")\n",
    "elif a == 20:\n",
    "    print(\"Hay un asteroide acercandose a \" + str(a) + \" km/s, busca señales en el cielo\")\n",
    "else:\n",
    "    print(\"No hay ningun peligro!\")"
   ]
  },
  {
   "cell_type": "markdown",
   "metadata": {},
   "source": [
    "Los asteroides de menos de 25 metros en su dimensión más grande probablemente se quemarán a medida que entren en la atmósfera de la Tierra.\n",
    "\n",
    "Si una pieza de un asteroide que es más grande que 25 metros pero más pequeña que 1000 metros golpeara la Tierra, causaría mucho daño.\n",
    "\n",
    "También discutimos en el ejercicio anterior que:\n",
    "\n",
    "La velocidad del asteroide varía en función de lo cerca que esté del sol, y cualquier velocidad superior a 25 kilómetros por segundo (km/s) merece una advertencia.\n",
    "Si un asteroide entra en la atmósfera de la Tierra a una velocidad mayor o igual a 20 km/s, a veces produce un rayo de luz que se puede ver desde la Tierra.\n",
    "\n",
    "Usando toda esta información, escribe un programa que emita la advertencia o información correcta a la gente de la Tierra, según la velocidad y el tamaño de un asteroide. Utiliza instrucciones if, else, y elif, así como los operadores and y or."
   ]
  },
  {
   "cell_type": "code",
   "execution_count": 24,
   "metadata": {},
   "outputs": [
    {
     "name": "stdout",
     "output_type": "stream",
     "text": [
      "Hay un asteroide de 20 metros acercandose, no existe ningun riesgo\n"
     ]
    }
   ],
   "source": [
    "a = 19 #velocidad del asteroide\n",
    "b = 20 #dimension del asteroide\n",
    "\n",
    "if a > 25 and b > 25:\n",
    "    print(\"Peligro, se acerca un asteroide a \" + str(a) +\n",
    "     \" km/s y con una dimensión de \" + str(b) + \" metros\")\n",
    "elif a >= 20:\n",
    "    print(\"Hay un asteroide acercandose a \" + str(a) + \" km/s, busca señales en el cielo\")\n",
    "elif b < 25:\n",
    "    print(\"Hay un asteroide de \" + str(b) + \" metros acercandose, no existe ningun riesgo\")\n",
    "else: \n",
    "    print(\"No hay ningun peligro\")\n"
   ]
  }
 ],
 "metadata": {
  "interpreter": {
   "hash": "0526c208ba4b851920fce286c9df23a966d8a92166a1fd5dd17368aeccefe786"
  },
  "kernelspec": {
   "display_name": "Python 3.10.2 64-bit",
   "language": "python",
   "name": "python3"
  },
  "language_info": {
   "codemirror_mode": {
    "name": "ipython",
    "version": 3
   },
   "file_extension": ".py",
   "mimetype": "text/x-python",
   "name": "python",
   "nbconvert_exporter": "python",
   "pygments_lexer": "ipython3",
   "version": "3.10.2"
  },
  "orig_nbformat": 4
 },
 "nbformat": 4,
 "nbformat_minor": 2
}

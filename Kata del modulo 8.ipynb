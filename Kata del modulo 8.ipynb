{
 "cells": [
  {
   "cell_type": "markdown",
   "metadata": {},
   "source": [
    "# Kata modulo 8"
   ]
  },
  {
   "cell_type": "markdown",
   "metadata": {},
   "source": [
    "## Ejercicio 1\n",
    "\n",
    "Para este ejercicio, crearás un diccionario que almacene información sobre el planeta Marte."
   ]
  },
  {
   "cell_type": "code",
   "execution_count": 30,
   "metadata": {},
   "outputs": [
    {
     "name": "stdout",
     "output_type": "stream",
     "text": [
      "Mars tiene 2 lunas\n",
      "El nombre del planeta es Mars y su circunferencia polar es de 6752 km\n"
     ]
    }
   ],
   "source": [
    "#Creación del diccionario\n",
    "planet = {\n",
    "    'name': 'Mars',\n",
    "    'moons': 2\n",
    "}\n",
    "#Impresión de los primeros valores\n",
    "print(f'{planet[\"name\"]} tiene {planet[\"moons\"]} lunas')\n",
    "#Se agregar un nuevo valor clave y sus anidados\n",
    "planet['circunferencia (km)'] = {'polar': 6752, 'equatorial': 9792}\n",
    "#Se imprimen los nuevos valores anidados \n",
    "print(f'El nombre del planeta es {planet[\"name\"]} y su circunferencia polar es de {planet[\"circunferencia (km)\"][\"polar\"]} km')"
   ]
  },
  {
   "cell_type": "markdown",
   "metadata": {},
   "source": [
    "## Ejercicio 2\n",
    "\n",
    "En este escenario se calculará tanto el número total de lunas en el sistema solar como el número promedio de lunas que tiene un planeta."
   ]
  },
  {
   "cell_type": "code",
   "execution_count": 40,
   "metadata": {},
   "outputs": [
    {
     "name": "stdout",
     "output_type": "stream",
     "text": [
      "Hay 12 planetas en total\n",
      "Existen 214 lunas en total\n",
      "En promedio existen 17.833333333333332 lunas por planeta\n"
     ]
    }
   ],
   "source": [
    "#Valores a trabajar\n",
    "planet_moons = {\n",
    "    'mercury': 0,\n",
    "    'venus': 0,\n",
    "    'earth': 1,\n",
    "    'mars': 2,\n",
    "    'jupiter': 79,\n",
    "    'saturn': 82,\n",
    "    'uranus': 27,\n",
    "    'neptune': 14,\n",
    "    'pluto': 5,\n",
    "    'haumea': 2,\n",
    "    'makemake': 1,\n",
    "    'eris': 1\n",
    "}\n",
    "\n",
    "#Se determina el numero de planetas por la función len y keys \n",
    "planets = len(planet_moons.keys())\n",
    "print(f'Hay {planets} planetas en total')\n",
    "#Se agrega variable entera moons y se igual a cero para los proximos calculos\n",
    "moons = 0\n",
    "#Se implementa bucle for para calculo de lunas totales en la lista\n",
    "for value in planet_moons.values():\n",
    "    #La variable moons ira sumando el valor anterior encontrado al siguiente hasta terminar con la lista de planetas\n",
    "\n",
    "     moons = moons + value\n",
    "\n",
    "print(f'Existen {moons} lunas en total')\n",
    "\n",
    "#Calculo del promedio\n",
    "promedio = moons/planets\n",
    "print(f'En promedio existen {promedio} lunas por planeta')\n"
   ]
  }
 ],
 "metadata": {
  "interpreter": {
   "hash": "de07546339410bd164d720f945413509fa7a67b3216fa400247d8bbda4c5a214"
  },
  "kernelspec": {
   "display_name": "Python 3.10.2 64-bit (windows store)",
   "language": "python",
   "name": "python3"
  },
  "language_info": {
   "codemirror_mode": {
    "name": "ipython",
    "version": 3
   },
   "file_extension": ".py",
   "mimetype": "text/x-python",
   "name": "python",
   "nbconvert_exporter": "python",
   "pygments_lexer": "ipython3",
   "version": "3.10.2"
  },
  "orig_nbformat": 4
 },
 "nbformat": 4,
 "nbformat_minor": 2
}

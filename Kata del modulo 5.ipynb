{
 "cells": [
  {
   "cell_type": "markdown",
   "metadata": {},
   "source": [
    "# Kata Modulo 5"
   ]
  },
  {
   "cell_type": "markdown",
   "metadata": {},
   "source": [
    "### Ejercicio 1\n",
    "\n",
    "Programa para calcular la distancia entre dos planetas. Comenzaremos usando dos distancias de planetas: Tierra (149,597,870 km) y Júpiter (778,547,200 km)."
   ]
  },
  {
   "cell_type": "markdown",
   "metadata": {},
   "source": [
    "Declaración de valores:"
   ]
  },
  {
   "cell_type": "code",
   "execution_count": null,
   "metadata": {},
   "outputs": [
    {
     "name": "stdout",
     "output_type": "stream",
     "text": [
      "149597870\n"
     ]
    }
   ],
   "source": [
    "Tierra = 149597870\n",
    "Jupiter = 778549200\n",
    "\n",
    "print(Tierra)"
   ]
  },
  {
   "cell_type": "markdown",
   "metadata": {},
   "source": [
    "Operación:"
   ]
  },
  {
   "cell_type": "code",
   "execution_count": null,
   "metadata": {},
   "outputs": [
    {
     "name": "stdout",
     "output_type": "stream",
     "text": [
      "La distancia entre planetas es igual a 628951330 km\n"
     ]
    }
   ],
   "source": [
    "Tierra = 149597870\n",
    "Jupiter = 778549200\n",
    "distancia = Tierra - Jupiter\n",
    "\n",
    "print(\"La distancia entre planetas es igual a \" + str(abs(distancia)) + \" km\")"
   ]
  },
  {
   "cell_type": "markdown",
   "metadata": {},
   "source": [
    "Conversión de km a millas:"
   ]
  },
  {
   "cell_type": "code",
   "execution_count": null,
   "metadata": {},
   "outputs": [
    {
     "name": "stdout",
     "output_type": "stream",
     "text": [
      "La distancia entre planetas es igual a 390578775.93 millas\n"
     ]
    }
   ],
   "source": [
    "Tierra = 149597870\n",
    "Jupiter = 778549200\n",
    "distancia = Tierra - Jupiter\n",
    "distancia_mi = distancia * 0.621\n",
    "\n",
    "print(\"La distancia entre planetas es igual a \" + str(abs(distancia_mi)) + \" millas\")"
   ]
  },
  {
   "cell_type": "markdown",
   "metadata": {},
   "source": [
    "### Ejercicio 2\n",
    "\n",
    "Convierte cadenas en números y usa valores absolutos."
   ]
  },
  {
   "cell_type": "markdown",
   "metadata": {},
   "source": [
    "Queremos leer la distancia del sol para dos planetas, y luego mostrar la distancia entre los planetas. "
   ]
  },
  {
   "cell_type": "code",
   "execution_count": 1,
   "metadata": {},
   "outputs": [
    {
     "name": "stdout",
     "output_type": "stream",
     "text": [
      "Bienvenido al calculador de distancia entre planetas\n"
     ]
    }
   ],
   "source": [
    "print(\"Bienvenido al calculador de distancia entre planetas\")\n",
    "variable1 = input(\"Por favor ingresa la distancia del primer planeta al sol\")\n",
    "variable2 = input(\"Por favor ingresa la distancia del segundo planeta al sol\")\n"
   ]
  },
  {
   "cell_type": "markdown",
   "metadata": {},
   "source": [
    "Se convierten los valores ingresador a variables enteras y se realiza calculo de distancia entre planetas:"
   ]
  },
  {
   "cell_type": "code",
   "execution_count": 1,
   "metadata": {},
   "outputs": [
    {
     "name": "stdout",
     "output_type": "stream",
     "text": [
      "Bienvenido al calculador de distancia entre planetas\n"
     ]
    }
   ],
   "source": [
    "print(\"Bienvenido al calculador de distancia entre planetas\")\n",
    "variable1 = input(\"Por favor ingresa la distancia del primer planeta al sol\")\n",
    "variable2 = input(\"Por favor ingresa la distancia del segundo planeta al sol\")\n",
    "\n",
    "planeta1 = int(variable1)\n",
    "planeta2 = int(variable2)\n",
    "\n",
    "distancia = planeta1 - planeta2\n",
    "print(\"La distancia entre planetas es igual a \" + str(abs(distancia)) + \" km\")"
   ]
  },
  {
   "cell_type": "markdown",
   "metadata": {},
   "source": [
    "Se convierte de km a millas:"
   ]
  },
  {
   "cell_type": "code",
   "execution_count": 1,
   "metadata": {},
   "outputs": [],
   "source": [
    "print(\"Bienvenido al calculador de distancia entre planetas\")\n",
    "variable1 = input(\"Por favor ingresa la distancia del primer planeta al sol\")\n",
    "variable2 = input(\"Por favor ingresa la distancia del segundo planeta al sol\")\n",
    "\n",
    "planeta1 = int(variable1)\n",
    "planeta2 = int(variable2)\n",
    "\n",
    "distancia = planeta1 - planeta2\n",
    "distancia_mi = distancia * 0.621\n",
    "print(\"La distancia entre planetas es igual a \" + str(abs(distancia)) + \" millas\")"
   ]
  }
 ],
 "metadata": {
  "interpreter": {
   "hash": "0526c208ba4b851920fce286c9df23a966d8a92166a1fd5dd17368aeccefe786"
  },
  "kernelspec": {
   "display_name": "Python 3.10.2 64-bit",
   "language": "python",
   "name": "python3"
  },
  "language_info": {
   "codemirror_mode": {
    "name": "ipython",
    "version": 3
   },
   "file_extension": ".py",
   "mimetype": "text/x-python",
   "name": "python",
   "nbconvert_exporter": "python",
   "pygments_lexer": "ipython3",
   "version": "3.10.2"
  },
  "orig_nbformat": 4
 },
 "nbformat": 4,
 "nbformat_minor": 2
}

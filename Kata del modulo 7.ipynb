{
 "cells": [
  {
   "cell_type": "markdown",
   "metadata": {},
   "source": [
    "# Kata Modulo 7"
   ]
  },
  {
   "cell_type": "markdown",
   "metadata": {},
   "source": [
    "## Ejercicio 1\n",
    "\n",
    "Crear una aplicación que solicita a un usuario que ingrese una lista de planetas. "
   ]
  },
  {
   "cell_type": "code",
   "execution_count": 1,
   "metadata": {},
   "outputs": [
    {
     "name": "stdout",
     "output_type": "stream",
     "text": [
      "['JUPITER', 'SATURNO', 'URANO', 'VENUS']\n"
     ]
    }
   ],
   "source": [
    "\n",
    "new_planet = ''\n",
    "planet = []\n",
    "\n",
    "while new_planet.lower() != 'termine':\n",
    "    if new_planet:\n",
    "        planet.append(new_planet)\n",
    "    new_planet = input(\"Por favor ingrese el nombre de un planeta o ingrese 'termine' para finalizar\")\n",
    "print(planet)\n"
   ]
  },
  {
   "cell_type": "markdown",
   "metadata": {},
   "source": [
    "## Ejercicio 2\n",
    "\n",
    "Complementa el ejercicio anterior escribiendo un código que muestre el nombre de esos planetas\n"
   ]
  },
  {
   "cell_type": "code",
   "execution_count": 2,
   "metadata": {},
   "outputs": [
    {
     "name": "stdout",
     "output_type": "stream",
     "text": [
      "JUPITER \n",
      "VENUS\n",
      "SATURNO\n",
      "URANO\n",
      "NEPTUNO\n",
      "Esos fueron todos los planetas introducidos!\n"
     ]
    }
   ],
   "source": [
    "new_planet = ''\n",
    "planet = []\n",
    "\n",
    "while new_planet.lower() != 'termine':\n",
    "    if new_planet:\n",
    "        planet.append(new_planet)\n",
    "    new_planet = input(\"Por favor ingrese el nombre de un planeta o ingrese 'termine' para finalizar\")\n",
    "for name in planet:\n",
    "    print(name)\n",
    "print('Esos fueron todos los planetas introducidos!')"
   ]
  }
 ],
 "metadata": {
  "interpreter": {
   "hash": "de07546339410bd164d720f945413509fa7a67b3216fa400247d8bbda4c5a214"
  },
  "kernelspec": {
   "display_name": "Python 3.10.2 64-bit (windows store)",
   "language": "python",
   "name": "python3"
  },
  "language_info": {
   "codemirror_mode": {
    "name": "ipython",
    "version": 3
   },
   "file_extension": ".py",
   "mimetype": "text/x-python",
   "name": "python",
   "nbconvert_exporter": "python",
   "pygments_lexer": "ipython3",
   "version": "3.10.2"
  },
  "orig_nbformat": 4
 },
 "nbformat": 4,
 "nbformat_minor": 2
}
